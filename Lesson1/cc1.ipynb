{
 "cells": [
  {
   "cell_type": "code",
   "execution_count": 6,
   "metadata": {
    "collapsed": true
   },
   "outputs": [],
   "source": [
    "import unittest\n",
    "\n",
    "# Given a string and a non-negative int n, return a larger string\n",
    "# that is n copies of the original string.\n",
    "\n",
    "def string_times(string, n):\n",
    "    return string*n"
   ]
  },
  {
   "cell_type": "code",
   "execution_count": 5,
   "metadata": {},
   "outputs": [
    {
     "data": {
      "text/plain": [
       "'testtesttesttesttest'"
      ]
     },
     "execution_count": 5,
     "metadata": {},
     "output_type": "execute_result"
    }
   ],
   "source": [
    "string_times('test',5)"
   ]
  },
  {
   "cell_type": "code",
   "execution_count": 12,
   "metadata": {
    "collapsed": true
   },
   "outputs": [],
   "source": [
    "# Given an array of ints, return True if one of the first 4 elements\n",
    "# in the array is a 9. The array length may be less than 4.\n",
    "def array_front9(nums):\n",
    "    #longueur=min(len(nums) & 4)\n",
    "    Test = False\n",
    "    if 9 in nums[:4] : Test = True\n",
    "    return Test"
   ]
  },
  {
   "cell_type": "code",
   "execution_count": 14,
   "metadata": {},
   "outputs": [
    {
     "data": {
      "text/plain": [
       "True"
      ]
     },
     "execution_count": 14,
     "metadata": {},
     "output_type": "execute_result"
    }
   ],
   "source": [
    "array_front9([1,1,9])"
   ]
  },
  {
   "cell_type": "code",
   "execution_count": 19,
   "metadata": {
    "collapsed": true
   },
   "outputs": [],
   "source": [
    "# Given a string, return the count of the number of times\n",
    "# that a substring length 2 appears  in the string and also as\n",
    "# the last 2 chars of the string, so \"hixxxhi\" yields 1 (we won't count the end substring).\n",
    "\n",
    "def last2(string):\n",
    "    i=0\n",
    "    if string[-2] in string :\n",
    "        i+=1\n",
    "    return"
   ]
  },
  {
   "cell_type": "code",
   "execution_count": 20,
   "metadata": {},
   "outputs": [
    {
     "ename": "UnboundLocalError",
     "evalue": "local variable 'i' referenced before assignment",
     "output_type": "error",
     "traceback": [
      "\u001b[0;31m---------------------------------------------------------------------------\u001b[0m",
      "\u001b[0;31mUnboundLocalError\u001b[0m                         Traceback (most recent call last)",
      "\u001b[0;32m<ipython-input-20-a96f8f50c5db>\u001b[0m in \u001b[0;36m<module>\u001b[0;34m()\u001b[0m\n\u001b[0;32m----> 1\u001b[0;31m \u001b[0mlast2\u001b[0m\u001b[0;34m(\u001b[0m\u001b[0;34m'testtest'\u001b[0m\u001b[0;34m)\u001b[0m\u001b[0;34m\u001b[0m\u001b[0m\n\u001b[0m",
      "\u001b[0;32m<ipython-input-19-7f6675e46c2a>\u001b[0m in \u001b[0;36mlast2\u001b[0;34m(string)\u001b[0m\n\u001b[1;32m      5\u001b[0m \u001b[0;32mdef\u001b[0m \u001b[0mlast2\u001b[0m\u001b[0;34m(\u001b[0m\u001b[0mstring\u001b[0m\u001b[0;34m)\u001b[0m\u001b[0;34m:\u001b[0m\u001b[0;34m\u001b[0m\u001b[0m\n\u001b[1;32m      6\u001b[0m     \u001b[0;32mif\u001b[0m \u001b[0mstring\u001b[0m\u001b[0;34m[\u001b[0m\u001b[0;34m-\u001b[0m\u001b[0;36m2\u001b[0m\u001b[0;34m]\u001b[0m \u001b[0;32min\u001b[0m \u001b[0mstring\u001b[0m \u001b[0;34m:\u001b[0m\u001b[0;34m\u001b[0m\u001b[0m\n\u001b[0;32m----> 7\u001b[0;31m         \u001b[0mi\u001b[0m\u001b[0;34m+=\u001b[0m\u001b[0;36m1\u001b[0m\u001b[0;34m\u001b[0m\u001b[0m\n\u001b[0m\u001b[1;32m      8\u001b[0m     \u001b[0;32mreturn\u001b[0m\u001b[0;34m\u001b[0m\u001b[0m\n",
      "\u001b[0;31mUnboundLocalError\u001b[0m: local variable 'i' referenced before assignment"
     ]
    }
   ],
   "source": [
    "last2('testtest')"
   ]
  },
  {
   "cell_type": "code",
   "execution_count": null,
   "metadata": {
    "collapsed": true
   },
   "outputs": [],
   "source": []
  },
  {
   "cell_type": "code",
   "execution_count": 16,
   "metadata": {
    "collapsed": true
   },
   "outputs": [],
   "source": [
    "#Write a proramm that return a dictionary of occurences of the alphabet for a given string.\n",
    "# Test it with the Lorem upsuj\n",
    "#\"Lorem ipsum dolor sit amet, consectetur adipiscing elit, sed do eiusmod tempor incididunt ut labore et dolore magna aliqua. Ut enim ad minim veniam, quis nostrud exercitation ullamco laboris nisi ut aliquip ex ea commodo consequat. Duis aute irure dolor in reprehenderit in voluptate velit esse cillum dolore eu fugiat nulla pariatur. Excepteur sint occaecat cupidatat non proident, sunt in culpa qui officia deserunt mollit anim id est laborum.\"\n",
    "def occurences(text):\n",
    "    \n",
    "    return"
   ]
  },
  {
   "cell_type": "code",
   "execution_count": null,
   "metadata": {
    "collapsed": true
   },
   "outputs": [],
   "source": []
  },
  {
   "cell_type": "code",
   "execution_count": null,
   "metadata": {
    "collapsed": true
   },
   "outputs": [],
   "source": []
  },
  {
   "cell_type": "code",
   "execution_count": null,
   "metadata": {
    "collapsed": true
   },
   "outputs": [],
   "source": [
    "#Write a program that maps a list of words into a list of\n",
    "#integers representing the lengths of the correponding words.\n",
    "def length_words(array):\n",
    "    return\n",
    "\n",
    "\n",
    "#Write a function that takes a number and returns a list of its digits.\n",
    "def number2digits(number):\n",
    "  return\n",
    "\n",
    "#Write function that translates a text to Pig Latin and back.\n",
    "#English is translated to Pig Latin by taking the first letter of every word,\n",
    "#moving it to the end of the word and adding 'ay'\n",
    "def pigLatin(text):\n",
    "  return\n",
    "\n",
    "\n",
    "#write fizbuzz programm\n",
    "def fizbuzz():\n",
    "    return\n",
    "\n",
    "\n",
    "response = {\n",
    "  \"nhits\": 1000,\n",
    "  \"parameters\": {}\n",
    "  \"records\": [\n",
    "    {\n",
    "      \"datasetid\": \"les-1000-titres-les-plus-reserves-dans-les-bibliotheques-de-pret\",\n",
    "      \"recordid\": \"4b950c1ac5459379633d74ed2ef7f1c7f5cc3a10\",\n",
    "      \"fields\": {\n",
    "        \"nombre_de_reservations\": 1094,\n",
    "        \"url_de_la_fiche_de_l_oeuvre\": \"https://bibliotheques.paris.fr/Default/doc/SYRACUSE/1009613\",\n",
    "        \"url_de_la_fiche_de_l_auteur\": \"https://bibliotheques.paris.fr/Default/doc/SYRACUSE/1009613\",\n",
    "        \"support\": \"indéterminé\",\n",
    "        \"auteur\": \"Enders, Giulia\",\n",
    "        \"titre\": \"Le charme discret de l'intestin [Texte imprimé] : tout sur un organe mal aimé\"\n",
    "      },\n",
    "      \"record_timestamp\": \"2017-01-26T11:17:33+00:00\"\n",
    "    },\n",
    "    {\n",
    "      \"datasetid\":\"les-1000-titres-les-plus-reserves-dans-les-bibliotheques-de-pret\",\n",
    "      \"recordid\":\"3df76bd20ab5dc902d0c8e5219dbefe9319c5eef\",\n",
    "      \"fields\":{\n",
    "        \"nombre_de_reservations\":746,\n",
    "        \"url_de_la_fiche_de_l_oeuvre\":\"https://bibliotheques.paris.fr/Default/doc/SYRACUSE/1016593\",\n",
    "        \"url_de_la_fiche_de_l_auteur\":\"https://bibliotheques.paris.fr/Default/doc/SYRACUSE/1016593\",\n",
    "        \"support\":\"Bande dessinée pour adulte\",\n",
    "        \"auteur\":\"Sattouf, Riad\",\n",
    "        \"titre\":\"L'Arabe du futur [Texte imprimé]. 2. Une jeunesse au Moyen-Orient, 1984-1985\"\n",
    "      },\n",
    "      \"record_timestamp\":\"2017-01-26T11:17:33+00:00\"\n",
    "    },\n",
    "  ]\n",
    "}\n",
    "\n",
    "#Given the above response object extract a array of records with columns nombre_de_reservations , auteur and timestamp\n",
    "def flatten():\n",
    "    return\n",
    "\n",
    "\n",
    "\n",
    "# Here's our \"unit tests\".\n",
    "class Lesson1Tests(unittest.TestCase):\n",
    "    fizbuzz()\n",
    "    def testArrayFront9(self):\n",
    "        self.assertEqual(array_front9([1, 2, 9, 3, 4]) , True)\n",
    "        self.assertEqual(array_front9([1, 2, 3, 4, 9]) , False)\n",
    "        self.assertEqual(array_front9([1, 2, 3, 4, 5]) , False)\n",
    "\n",
    "    def testStringTimes(self):\n",
    "        self.assertEqual(string_times('Hel', 2),'HelHel' )\n",
    "        self.assertEqual(string_times('Toto', 1),'Toto' )\n",
    "        self.assertEqual(string_times('P', 4),'PPPP' )\n",
    "\n",
    "    def testLast2(self):\n",
    "        self.assertEqual(last2('hixxhi') , 1)\n",
    "        self.assertEqual(last2('xaxxaxaxx') , 1)\n",
    "        self.assertEqual(last2('axxxaaxx') , 2)\n",
    "\n",
    "    def testLengthWord(self):\n",
    "        self.assertEqual(length_words(['hello','toto']) , [5,4])\n",
    "        self.assertEqual(length_words(['s','ss','59fk','flkj3']) , [1,2,4,5])\n",
    "\n",
    "    def testNumber2Digits(self):\n",
    "        self.assertEqual(number2digits(8849) , [8,8,4,9])\n",
    "        self.assertEqual(number2digits(4985098) , [4,9,8,5,0,9,8])\n",
    "\n",
    "    def testPigLatin(self):\n",
    "        self.assertEqual(pigLatin(\"The quick brown fox\") , \"Hetay uickqay rownbay oxfay\")\n",
    "\n",
    "\n",
    "\n",
    "def main():\n",
    "    unittest.main()\n",
    "\n",
    "if __name__ == '__main__':\n",
    "    main()\n"
   ]
  },
  {
   "cell_type": "code",
   "execution_count": null,
   "metadata": {
    "collapsed": true
   },
   "outputs": [],
   "source": []
  },
  {
   "cell_type": "code",
   "execution_count": null,
   "metadata": {
    "collapsed": true
   },
   "outputs": [],
   "source": []
  }
 ],
 "metadata": {
  "kernelspec": {
   "display_name": "Python 3",
   "language": "python",
   "name": "python3"
  },
  "language_info": {
   "codemirror_mode": {
    "name": "ipython",
    "version": 3
   },
   "file_extension": ".py",
   "mimetype": "text/x-python",
   "name": "python",
   "nbconvert_exporter": "python",
   "pygments_lexer": "ipython3",
   "version": "3.6.2"
  }
 },
 "nbformat": 4,
 "nbformat_minor": 2
}
