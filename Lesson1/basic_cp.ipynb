{
 "cells": [
  {
   "cell_type": "markdown",
   "metadata": {},
   "source": [
    "## String\n"
   ]
  },
  {
   "cell_type": "markdown",
   "metadata": {},
   "source": [
    "### A. donuts\n",
    "Given an int count of a number of donuts, return a string\n",
    "of the form 'Number of donuts: <count>', where <count> is the number\n",
    "passed in. However, if the count is 10 or more, then use the word 'many'\n",
    "instead of the actual count.\n",
    "So donuts(5) returns 'Number of donuts: 5'\n",
    "and donuts(23) returns 'Number of donuts: many'"
   ]
  },
  {
   "cell_type": "code",
   "execution_count": 1,
   "metadata": {
    "collapsed": true
   },
   "outputs": [],
   "source": [
    "def donuts(count):\n",
    "    if count > 9 : count = 'many'\n",
    "    return count"
   ]
  },
  {
   "cell_type": "code",
   "execution_count": 2,
   "metadata": {},
   "outputs": [
    {
     "data": {
      "text/plain": [
       "'many'"
      ]
     },
     "execution_count": 2,
     "metadata": {},
     "output_type": "execute_result"
    }
   ],
   "source": [
    "donuts(15)"
   ]
  },
  {
   "cell_type": "markdown",
   "metadata": {},
   "source": [
    "### B. both_ends\n",
    "Given a string s, return a string made of the first 2\n",
    "and the last 2 chars of the original string,\n",
    "so 'spring' yields 'spng'. However, if the string length\n",
    "is less than 2, return instead the empty string.\n"
   ]
  },
  {
   "cell_type": "code",
   "execution_count": 3,
   "metadata": {
    "collapsed": true
   },
   "outputs": [],
   "source": [
    "def both_ends(s):\n",
    "    if len(s) <=2 : s =''\n",
    "    return s[:2]+s[-2:]"
   ]
  },
  {
   "cell_type": "code",
   "execution_count": 4,
   "metadata": {},
   "outputs": [
    {
     "data": {
      "text/plain": [
       "'spnt'"
      ]
     },
     "execution_count": 4,
     "metadata": {},
     "output_type": "execute_result"
    }
   ],
   "source": [
    "both_ends('sprint')"
   ]
  },
  {
   "cell_type": "markdown",
   "metadata": {},
   "source": [
    "### C. fix_start\n",
    "Given a string s, return a string\n",
    "where all occurences of its first char have\n",
    "been changed to ' \\* ', except do not change\n",
    "the first char itself.\n",
    "e.g. 'babble' yields 'ba\\*\\*le'\n",
    "Assume that the string is length 1 or more.\n",
    "Hint: s.replace(stra, strb) returns a version of string s\n",
    "where all instances of stra have been replaced by strb.\n",
    "\n"
   ]
  },
  {
   "cell_type": "code",
   "execution_count": 5,
   "metadata": {
    "collapsed": true
   },
   "outputs": [],
   "source": [
    "def fix_start(s):    \n",
    "    return s[0]+s[1:].replace(s[0],'*')"
   ]
  },
  {
   "cell_type": "code",
   "execution_count": 6,
   "metadata": {},
   "outputs": [
    {
     "data": {
      "text/plain": [
       "'tes*oma*ic'"
      ]
     },
     "execution_count": 6,
     "metadata": {},
     "output_type": "execute_result"
    }
   ],
   "source": [
    "fix_start('testomatic')"
   ]
  },
  {
   "cell_type": "markdown",
   "metadata": {},
   "source": [
    "### D. MixUp\n",
    "Given strings a and b, return a single string with a and b separated\n",
    "by a space '<a> <b>', except swap the first 2 chars of each string.  e.g.\n",
    "   'mix', pod' -\\> 'pox mid'\n",
    "   'dog', 'dinner' -\\> 'dig donner'\n",
    " Assume a and b are length 2 or more.\n"
   ]
  },
  {
   "cell_type": "code",
   "execution_count": 7,
   "metadata": {
    "collapsed": true
   },
   "outputs": [],
   "source": [
    "def mix_up(a, b):\n",
    "    return '{} {}'.format(b[:2]+a[2:],a[:2]+b[2:])"
   ]
  },
  {
   "cell_type": "code",
   "execution_count": 8,
   "metadata": {},
   "outputs": [
    {
     "data": {
      "text/plain": [
       "'dig donner'"
      ]
     },
     "execution_count": 8,
     "metadata": {},
     "output_type": "execute_result"
    }
   ],
   "source": [
    "mix_up('dog','dinner')"
   ]
  },
  {
   "cell_type": "code",
   "execution_count": 9,
   "metadata": {},
   "outputs": [
    {
     "name": "stdout",
     "output_type": "stream",
     "text": [
      "donuts\n",
      "  X  got: 4 expected: 'Number of donuts: 4'\n",
      "  X  got: 9 expected: 'Number of donuts: 9'\n",
      "  X  got: 'many' expected: 'Number of donuts: many'\n",
      "  X  got: 'many' expected: 'Number of donuts: many'\n",
      "both_ends\n",
      " OK  got: 'spng' expected: 'spng'\n",
      " OK  got: 'Helo' expected: 'Helo'\n",
      " OK  got: '' expected: ''\n",
      " OK  got: 'xyyz' expected: 'xyyz'\n",
      "fix_start\n",
      " OK  got: 'ba**le' expected: 'ba**le'\n",
      " OK  got: 'a*rdv*rk' expected: 'a*rdv*rk'\n",
      " OK  got: 'goo*le' expected: 'goo*le'\n",
      " OK  got: 'donut' expected: 'donut'\n",
      "mix_up\n",
      " OK  got: 'pox mid' expected: 'pox mid'\n",
      " OK  got: 'dig donner' expected: 'dig donner'\n",
      " OK  got: 'spash gnort' expected: 'spash gnort'\n",
      " OK  got: 'fizzy perm' expected: 'fizzy perm'\n"
     ]
    }
   ],
   "source": [
    "# Provided simple test() function used in main() to print\n",
    "# what each function returns vs. what it's supposed to return.\n",
    "def test(got, expected):\n",
    "    if got == expected:\n",
    "        prefix = ' OK '\n",
    "    else:\n",
    "        prefix = '  X '\n",
    "    print ('%s got: %s expected: %s' % (prefix, repr(got), repr(expected)))\n",
    "\n",
    "\n",
    "# Provided main() calls the above functions with interesting inputs,\n",
    "# using test() to check if each result is correct or not.\n",
    "def main():\n",
    "    print ('donuts')\n",
    "  # Each line calls donuts, compares its result to the expected for that call.\n",
    "    test(donuts(4), 'Number of donuts: 4')\n",
    "    test(donuts(9), 'Number of donuts: 9')\n",
    "    test(donuts(10), 'Number of donuts: many')\n",
    "    test(donuts(99), 'Number of donuts: many')\n",
    "    \n",
    "    print ('both_ends')\n",
    "    test(both_ends('spring'), 'spng')\n",
    "    test(both_ends('Hello'), 'Helo')\n",
    "    test(both_ends('a'), '')\n",
    "    test(both_ends('xyz'), 'xyyz')\n",
    "\n",
    "\n",
    "    print ('fix_start')\n",
    "    test(fix_start('babble'), 'ba**le')\n",
    "    test(fix_start('aardvark'), 'a*rdv*rk')\n",
    "    test(fix_start('google'), 'goo*le')\n",
    "    test(fix_start('donut'), 'donut')\n",
    "\n",
    "    print ('mix_up')\n",
    "    test(mix_up('mix', 'pod'), 'pox mid')\n",
    "    test(mix_up('dog', 'dinner'), 'dig donner')\n",
    "    test(mix_up('gnash', 'sport'), 'spash gnort')\n",
    "    test(mix_up('pezzy', 'firm'), 'fizzy perm')\n",
    "\n",
    "\n",
    "# Standard boilerplate to call the main() function.\n",
    "if __name__ == '__main__':\n",
    "    main()\n"
   ]
  },
  {
   "cell_type": "markdown",
   "metadata": {},
   "source": [
    "## List"
   ]
  },
  {
   "cell_type": "markdown",
   "metadata": {},
   "source": [
    "### A. match_ends\n",
    "Given a list of strings, return the count of the number of\n",
    "strings where the string length is 2 or more and the first\n",
    "and last chars of the string are the same.\n",
    "Note: python does not have a ++ operator, but += works."
   ]
  },
  {
   "cell_type": "code",
   "execution_count": 10,
   "metadata": {
    "collapsed": true
   },
   "outputs": [],
   "source": [
    "def match_ends(words):\n",
    "    \n",
    "    # Créé une nouvelle liste à partir des mots en entrée correspondant au critère\n",
    "    # longueur > 2 lettres et première = dernière lettre\n",
    "    \n",
    "    word_reduced = [word for word in words if len(word)>=2 and word[0]==word[-1]]\n",
    "    \n",
    "    return \"il y a {} mot(s) correspondant au critère\".format(len(word_reduced))"
   ]
  },
  {
   "cell_type": "code",
   "execution_count": 11,
   "metadata": {},
   "outputs": [
    {
     "data": {
      "text/plain": [
       "'il y a 3 mot(s) correspondant au critère'"
      ]
     },
     "execution_count": 11,
     "metadata": {},
     "output_type": "execute_result"
    }
   ],
   "source": [
    "# On test la fonction sur une liste de mots qui contient 3 mots validant le critère\n",
    "\n",
    "words = ['a', 'ab', 'acde', 'acdea', 'bimma', 'zazaz','bbbb']\n",
    "match_ends(words)"
   ]
  },
  {
   "cell_type": "markdown",
   "metadata": {},
   "source": [
    "### B. front_x\n",
    "Given a list of strings, return a list with the strings\n",
    "in sorted order, except group all the strings that begin with 'x' first.\n",
    "e.g. ['mix', 'xyz', 'apple', 'xanadu', 'aardvark'] yields\n",
    "['xanadu', 'xyz', 'aardvark', 'apple', 'mix']\n",
    "Hint: this can be done by making 2 lists and sorting each of them\n",
    "before combining them.\n"
   ]
  },
  {
   "cell_type": "code",
   "execution_count": 12,
   "metadata": {
    "collapsed": true
   },
   "outputs": [],
   "source": [
    "def front_x(words):\n",
    "    \n",
    "    # Concatène 2 listes :\n",
    "    # La première avec un filtre qui conserve seulement les mots commençant par 'x'\n",
    "    #   puis exécute un trie par ordre alphabétique\n",
    "    # La seconde avec un filtre qui exclut les mots commençant par 'x'\n",
    "    #  puis exécute un trie par ordre alphabétique\n",
    "    \n",
    "    word_sorted = sorted([word for word in words if word[0] == 'x']) \\\n",
    "                + sorted([word for word in words if word[0] != 'x'])\n",
    "    \n",
    "    return \"Voici la liste classée : {} \".format(word_sorted)"
   ]
  },
  {
   "cell_type": "code",
   "execution_count": 13,
   "metadata": {},
   "outputs": [
    {
     "data": {
      "text/plain": [
       "\"Voici la liste classée : ['xanadu', 'xyz', 'aardvark', 'apple', 'mix'] \""
      ]
     },
     "execution_count": 13,
     "metadata": {},
     "output_type": "execute_result"
    }
   ],
   "source": [
    "# On test la fonction sur une la liste de mot en exemple de l'énoncé\n",
    "\n",
    "words = ['mix', 'xyz', 'apple', 'xanadu', 'aardvark']\n",
    "front_x(words)"
   ]
  },
  {
   "cell_type": "markdown",
   "metadata": {},
   "source": [
    "### C. sort_last\n",
    "Given a list of non-empty tuples, return a list sorted in increasing\n",
    "order by the last element in each tuple.\n",
    "e.g. [(1, 7), (1, 3), (3, 4, 5), (2, 2)] yields\n",
    "[(2, 2), (1, 3), (3, 4, 5), (1, 7)]\n",
    "Hint: use a custom key= function to extract the last element form each tuple.\n"
   ]
  },
  {
   "cell_type": "code",
   "execution_count": 14,
   "metadata": {
    "collapsed": true
   },
   "outputs": [],
   "source": [
    "def sort_last(tuples):\n",
    "    \n",
    "    # Fonction qui récupère la deuxième valeur du tuple\n",
    "    def last_val(tp) :\n",
    "        return tp[1]\n",
    "    \n",
    "    # Les tuples non nuls sont triés selon leur 2ème valeur\n",
    "    tuples_sorted = sorted([tp for tp in tuples if tp[1] != 0], key=last_val)\n",
    "\n",
    "    return \"Voici la liste classée : {} \".format(tuples_sorted)"
   ]
  },
  {
   "cell_type": "code",
   "execution_count": 15,
   "metadata": {},
   "outputs": [
    {
     "data": {
      "text/plain": [
       "'Voici la liste classée : [(0, 1), (2, 2), (1, 3), (3, 4, 5), (1, 7)] '"
      ]
     },
     "execution_count": 15,
     "metadata": {},
     "output_type": "execute_result"
    }
   ],
   "source": [
    "# On test la fonction sur une la liste de mot en exemple de l'énoncé\n",
    "\n",
    "tuples = [(1, 7), (1, 3), (3, 4, 5), (2, 2),(0,1),(0,0)]\n",
    "sort_last(tuples)"
   ]
  },
  {
   "cell_type": "code",
   "execution_count": 16,
   "metadata": {},
   "outputs": [
    {
     "name": "stdout",
     "output_type": "stream",
     "text": [
      "  X  got: 'il y a 3 mot(s) correspondant au critère' expected: 3\n",
      "  X  got: 'il y a 2 mot(s) correspondant au critère' expected: 2\n",
      "  X  got: 'il y a 1 mot(s) correspondant au critère' expected: 1\n",
      "  X  got: \"Voici la liste classée : ['xaa', 'xzz', 'axx', 'bbb', 'ccc'] \" expected: ['xaa', 'xzz', 'axx', 'bbb', 'ccc']\n",
      "  X  got: \"Voici la liste classée : ['xaa', 'xcc', 'aaa', 'bbb', 'ccc'] \" expected: ['xaa', 'xcc', 'aaa', 'bbb', 'ccc']\n",
      "  X  got: \"Voici la liste classée : ['xanadu', 'xyz', 'aardvark', 'apple', 'mix'] \" expected: ['xanadu', 'xyz', 'aardvark', 'apple', 'mix']\n",
      "  X  got: 'Voici la liste classée : [(2, 1), (3, 2), (1, 3)] ' expected: [(2, 1), (3, 2), (1, 3)]\n",
      "  X  got: 'Voici la liste classée : [(3, 1), (1, 2), (2, 3)] ' expected: [(3, 1), (1, 2), (2, 3)]\n",
      "  X  got: 'Voici la liste classée : [(2, 2), (1, 3), (3, 4, 5), (1, 7)] ' expected: [(2, 2), (1, 3), (3, 4, 5), (1, 7)]\n"
     ]
    }
   ],
   "source": [
    "# Simple provided test() function used in main() to print\n",
    "# what each function returns vs. what it's supposed to return.\n",
    "def test(got, expected):\n",
    "    if got == expected:\n",
    "        prefix = ' OK '\n",
    "    else:\n",
    "        prefix = '  X '\n",
    "    print('%s got: %s expected: %s' % (prefix, repr(got), repr(expected)))\n",
    "\n",
    "\n",
    "# Calls the above functions with interesting inputs.\n",
    "def main():\n",
    "    print\n",
    "    'match_ends'\n",
    "    test(match_ends(['aba', 'xyz', 'aa', 'x', 'bbb']), 3)\n",
    "    test(match_ends(['', 'x', 'xy', 'xyx', 'xx']), 2)\n",
    "    test(match_ends(['aaa', 'be', 'abc', 'hello']), 1)\n",
    "\n",
    "    print\n",
    "    print\n",
    "    'front_x'\n",
    "    test(front_x(['bbb', 'ccc', 'axx', 'xzz', 'xaa']),\n",
    "         ['xaa', 'xzz', 'axx', 'bbb', 'ccc'])\n",
    "    test(front_x(['ccc', 'bbb', 'aaa', 'xcc', 'xaa']),\n",
    "         ['xaa', 'xcc', 'aaa', 'bbb', 'ccc'])\n",
    "    test(front_x(['mix', 'xyz', 'apple', 'xanadu', 'aardvark']),\n",
    "         ['xanadu', 'xyz', 'aardvark', 'apple', 'mix'])\n",
    "\n",
    "    print\n",
    "    print\n",
    "    'sort_last'\n",
    "    test(sort_last([(1, 3), (3, 2), (2, 1)]),\n",
    "         [(2, 1), (3, 2), (1, 3)])\n",
    "    test(sort_last([(2, 3), (1, 2), (3, 1)]),\n",
    "         [(3, 1), (1, 2), (2, 3)])\n",
    "    test(sort_last([(1, 7), (1, 3), (3, 4, 5), (2, 2)]),\n",
    "         [(2, 2), (1, 3), (3, 4, 5), (1, 7)])\n",
    "\n",
    "\n",
    "if __name__ == '__main__':\n",
    "    main()"
   ]
  },
  {
   "cell_type": "markdown",
   "metadata": {},
   "source": [
    "## Wordcount"
   ]
  },
  {
   "cell_type": "markdown",
   "metadata": {},
   "source": [
    "### Wordcount exercise\n",
    "Google's Python class\n",
    "\n",
    "The main() below is already defined and complete. It calls print_words()\n",
    "and print_top() functions which you write.\n",
    "\n",
    "1. For the --count flag, implement a print_words(filename) function that counts\n",
    "how often each word appears in the text and prints:\n",
    "word1 count1\n",
    "word2 count2\n",
    "...\n",
    "\n",
    "Print the above list in order sorted by word (python will sort punctuation to\n",
    "come before letters -- that's fine). Store all the words as lowercase,\n",
    "so 'The' and 'the' count as the same word.\n",
    "\n",
    "2. For the --topcount flag, implement a print_top(filename) which is similar\n",
    "to print_words() but which prints just the top 20 most common words sorted\n",
    "so the most common word is first, then the next most common, and so on.\n",
    "\n",
    "Use str.split() (no arguments) to split on all whitespace.\n",
    "\n",
    "Workflow: don't build the whole program at once. Get it to an intermediate\n",
    "milestone and print your data structure and sys.exit(0).\n",
    "When that's working, try for the next milestone.\n",
    "\n",
    "Optional: define a helper function to avoid code duplication inside\n",
    "print_words() and print_top()."
   ]
  },
  {
   "cell_type": "code",
   "execution_count": 17,
   "metadata": {
    "collapsed": true
   },
   "outputs": [],
   "source": [
    "# Fonction permettant la lecture d'un fichier texte dans le dossier courant\n",
    "def read_file(filename):\n",
    "    with open(filename, \"r\") as f:\n",
    "        file = f.read()\n",
    "    return file"
   ]
  },
  {
   "cell_type": "code",
   "execution_count": 18,
   "metadata": {
    "collapsed": true
   },
   "outputs": [],
   "source": [
    "def count_word(list_word):\n",
    "\n",
    "    count_list = {}\n",
    "\n",
    "    for word in list_word :\n",
    "        if word in count_list:\n",
    "            count_list[word] +=1\n",
    "        else:\n",
    "            count_list[word] = 1\n",
    "\n",
    "    return count_list"
   ]
  },
  {
   "cell_type": "code",
   "execution_count": 19,
   "metadata": {
    "collapsed": true
   },
   "outputs": [],
   "source": [
    "# Compte le nombre mot\n",
    "# réduit en petite casse\n",
    "# trie le dictionnaire par ordre alphabétique des clefs\n",
    "\n",
    "def print_words(filename):\n",
    "\n",
    "    list_word = read_file(filename).split()\n",
    "    list_word = [word.lower() for word in list_word]\n",
    "\n",
    "    count_list = count_word(list_word)\n",
    "\n",
    "    for key in sorted(count_list.keys()) :\n",
    "        print(\"{} {}\".format (key, str(count_list[key])))"
   ]
  },
  {
   "cell_type": "code",
   "execution_count": 20,
   "metadata": {
    "collapsed": true
   },
   "outputs": [],
   "source": [
    "# Affiche les 20 premiers mots classés selon leur fréquence d'apparition\n",
    "\n",
    "def print_top(filename):\n",
    "\n",
    "    list_word = read_file(filename).split()\n",
    "    list_word = [word.lower() for word in list_word]\n",
    "\n",
    "    count_list = count_word(list_word)\n",
    "\n",
    "    count_list_key = sorted(count_list, key=count_list.get, reverse=True)\n",
    "\n",
    "    for key in count_list_key[:20] :\n",
    "        print(\"{} {}\".format (key, str(count_list[key])))"
   ]
  },
  {
   "cell_type": "code",
   "execution_count": 21,
   "metadata": {},
   "outputs": [
    {
     "name": "stdout",
     "output_type": "stream",
     "text": [
      "(as 1\n",
      "alice 3\n",
      "and 2\n",
      "as 3\n",
      "bank, 2\n",
      "beginning 2\n",
      "by 2\n",
      "considering 2\n",
      "could 2\n",
      "did 1\n",
      "do 2\n",
      "get 2\n",
      "having 2\n",
      "her 4\n",
      "in 3\n",
      "mind 2\n",
      "nor 1\n",
      "nothing 3\n",
      "of 4\n",
      "on 2\n",
      "own 2\n",
      "remarkable 1\n",
      "she 4\n",
      "sister 2\n",
      "sitting 2\n",
      "so 3\n",
      "that 1\n",
      "the 2\n",
      "there 1\n",
      "tired 2\n",
      "to 4\n",
      "very 3\n",
      "was 5\n",
      "well 2\n"
     ]
    }
   ],
   "source": [
    "print_words('test.txt')"
   ]
  },
  {
   "cell_type": "code",
   "execution_count": 22,
   "metadata": {},
   "outputs": [
    {
     "name": "stdout",
     "output_type": "stream",
     "text": [
      "was 5\n",
      "to 4\n",
      "of 4\n",
      "her 4\n",
      "she 4\n",
      "alice 3\n",
      "very 3\n",
      "nothing 3\n",
      "so 3\n",
      "in 3\n",
      "as 3\n",
      "beginning 2\n",
      "get 2\n",
      "tired 2\n",
      "sitting 2\n",
      "by 2\n",
      "sister 2\n",
      "on 2\n",
      "the 2\n",
      "bank, 2\n"
     ]
    }
   ],
   "source": [
    "print_top('test.txt')"
   ]
  },
  {
   "cell_type": "code",
   "execution_count": 28,
   "metadata": {},
   "outputs": [
    {
     "ename": "SystemExit",
     "evalue": "1",
     "output_type": "error",
     "traceback": [
      "\u001b[0;31m---------------------------------------------------------------------------\u001b[0m",
      "\u001b[0;31mSystemExit\u001b[0m                                Traceback (most recent call last)",
      "\u001b[0;32m<ipython-input-27-fd2ee9090ac5>\u001b[0m in \u001b[0;36m<module>\u001b[0;34m()\u001b[0m\n\u001b[1;32m     19\u001b[0m \u001b[0;34m\u001b[0m\u001b[0m\n\u001b[1;32m     20\u001b[0m \u001b[0;32mif\u001b[0m \u001b[0m__name__\u001b[0m \u001b[0;34m==\u001b[0m \u001b[0;34m'__main__'\u001b[0m\u001b[0;34m:\u001b[0m\u001b[0;34m\u001b[0m\u001b[0m\n\u001b[0;32m---> 21\u001b[0;31m     \u001b[0mmain\u001b[0m\u001b[0;34m(\u001b[0m\u001b[0;34m)\u001b[0m\u001b[0;34m\u001b[0m\u001b[0m\n\u001b[0m",
      "\u001b[0;32m<ipython-input-27-fd2ee9090ac5>\u001b[0m in \u001b[0;36mmain\u001b[0;34m()\u001b[0m\n\u001b[1;32m     16\u001b[0m     \u001b[0;32melse\u001b[0m\u001b[0;34m:\u001b[0m\u001b[0;34m\u001b[0m\u001b[0m\n\u001b[1;32m     17\u001b[0m         \u001b[0mprint\u001b[0m\u001b[0;34m(\u001b[0m\u001b[0;34m'unknown option: '\u001b[0m \u001b[0;34m+\u001b[0m \u001b[0moption\u001b[0m\u001b[0;34m)\u001b[0m\u001b[0;34m\u001b[0m\u001b[0m\n\u001b[0;32m---> 18\u001b[0;31m         \u001b[0msys\u001b[0m\u001b[0;34m.\u001b[0m\u001b[0mexit\u001b[0m\u001b[0;34m(\u001b[0m\u001b[0;36m1\u001b[0m\u001b[0;34m)\u001b[0m\u001b[0;34m\u001b[0m\u001b[0m\n\u001b[0m\u001b[1;32m     19\u001b[0m \u001b[0;34m\u001b[0m\u001b[0m\n\u001b[1;32m     20\u001b[0m \u001b[0;32mif\u001b[0m \u001b[0m__name__\u001b[0m \u001b[0;34m==\u001b[0m \u001b[0;34m'__main__'\u001b[0m\u001b[0;34m:\u001b[0m\u001b[0;34m\u001b[0m\u001b[0m\n",
      "\u001b[0;31mSystemExit\u001b[0m: 1"
     ]
    },
    {
     "name": "stdout",
     "output_type": "stream",
     "text": [
      "unknown option: -f\n"
     ]
    },
    {
     "ename": "SystemExit",
     "evalue": "1",
     "output_type": "error",
     "traceback": [
      "An exception has occurred, use %tb to see the full traceback.\n",
      "\u001b[0;31mSystemExit\u001b[0m\u001b[0;31m:\u001b[0m 1\n"
     ]
    },
    {
     "name": "stderr",
     "output_type": "stream",
     "text": [
      "/Users/Colin/anaconda3/lib/python3.6/site-packages/IPython/core/interactiveshell.py:2870: UserWarning: To exit: use 'exit', 'quit', or Ctrl-D.\n",
      "  warn(\"To exit: use 'exit', 'quit', or Ctrl-D.\", stacklevel=1)\n"
     ]
    }
   ],
   "source": [
    "%tb\n",
    "\n",
    "# This basic command line argument parsing code is provided and\n",
    "# calls the print_words() and print_top() functions which you must define.\n",
    "def main():\n",
    "    if len(sys.argv) != 3:\n",
    "        print('usage: ./wordcount.py {--count | --topcount} file')\n",
    "        sys.exit(1)\n",
    "\n",
    "    option = sys.argv[1]\n",
    "    filename = sys.argv[2]\n",
    "    if option == '--count':\n",
    "        print_words(filename)\n",
    "    elif option == '--topcount':\n",
    "        print_top(filename)\n",
    "    else:\n",
    "        print('unknown option: ' + option)\n",
    "        sys.exit(1)\n",
    "\n",
    "if __name__ == '__main__':\n",
    "    main()"
   ]
  },
  {
   "cell_type": "code",
   "execution_count": null,
   "metadata": {
    "collapsed": true
   },
   "outputs": [],
   "source": []
  }
 ],
 "metadata": {
  "kernelspec": {
   "display_name": "Python 3",
   "language": "python",
   "name": "python3"
  },
  "language_info": {
   "codemirror_mode": {
    "name": "ipython",
    "version": 3
   },
   "file_extension": ".py",
   "mimetype": "text/x-python",
   "name": "python",
   "nbconvert_exporter": "python",
   "pygments_lexer": "ipython3",
   "version": "3.6.2"
  }
 },
 "nbformat": 4,
 "nbformat_minor": 2
}
